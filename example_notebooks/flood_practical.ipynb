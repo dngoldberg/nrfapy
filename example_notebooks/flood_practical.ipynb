{
  "nbformat": 4,
  "nbformat_minor": 0,
  "metadata": {
    "colab": {
      "provenance": []
    },
    "kernelspec": {
      "name": "python3",
      "display_name": "Python 3"
    },
    "language_info": {
      "name": "python"
    }
  },
  "cells": [
    {
      "cell_type": "markdown",
      "source": [
        "# Physical Geography practical 1: Analysis of flood data (and your first look at python)"
      ],
      "metadata": {
        "id": "w0B5VjybE4cI"
      }
    },
    {
      "cell_type": "markdown",
      "source": [
        "Written by Simon M Mudd, last update 19-Jan-2024"
      ],
      "metadata": {
        "id": "QITbxPujE6Lf"
      }
    },
    {
      "cell_type": "markdown",
      "source": [
        "## Overview"
      ],
      "metadata": {
        "id": "cpYWtFdtFBVS"
      }
    },
    {
      "cell_type": "markdown",
      "source": [
        "In this practical we will work with some data that comes from the National River Flow Archive (NFRA) which can be found at: https://nrfa.ceh.ac.uk/\n",
        "\n",
        "It allows you to perform flood frequency analysis, and then look at the results in plots.\n",
        "\n",
        "It will also give you a basic overview of python. We will use this again later in the course."
      ],
      "metadata": {
        "id": "aFkIvNUjFDLq"
      }
    },
    {
      "cell_type": "markdown",
      "source": [
        "## Your very first steps in python"
      ],
      "metadata": {
        "id": "IOris4CXG6JS"
      }
    },
    {
      "cell_type": "markdown",
      "source": [
        "You are reading this inside a python notebook.\n",
        "\n",
        "It is made up of \"cells\". Some of these cells are text, which are just there for you to read. But others are code (that is, a little bit of software) that you can run.\n",
        "\n",
        "The code is all written in python, which is a popular programming language.\n",
        "\n",
        "If you want to run the code in the cells you can do than in a few ways.\n",
        "1. You can click on the cell and then type shift+enter\n",
        "2. You can click on the cell and there is a little symbol that looks like a \"play\" arrow, and you can click that.\n",
        "3. You can go into the top menu and where it says \"runtime\" you can choose to run *all* the cells.\n",
        "\n",
        "Lets practice running our first python code"
      ],
      "metadata": {
        "id": "c4YJVyWXHWGW"
      }
    },
    {
      "cell_type": "code",
      "source": [
        "x = 2\n",
        "y = \"I am a string\"\n",
        "z = 2.3"
      ],
      "metadata": {
        "id": "AW7UVTOLG5MB"
      },
      "execution_count": null,
      "outputs": []
    },
    {
      "cell_type": "markdown",
      "source": [
        "Wait, it didn't do anything? Well actually it did, it assigned the number `2` to the variable `x`. Then it defined the variable `y` as being a series of characters, which in programming we call a string. And z is a decimal number. If you want to see the value of your variables you nbeed to `print` them, like this:"
      ],
      "metadata": {
        "id": "tCgpXeUtQN43"
      }
    },
    {
      "cell_type": "code",
      "execution_count": null,
      "metadata": {
        "colab": {
          "base_uri": "https://localhost:8080/"
        },
        "id": "B2rA3EdwEbN9",
        "outputId": "4ec3c7eb-2e42-4df0-cd42-b20dcc1e475b"
      },
      "outputs": [
        {
          "output_type": "stream",
          "name": "stdout",
          "text": [
            "2\n",
            "I am a string\n",
            "2.3\n"
          ]
        }
      ],
      "source": [
        "print(x)\n",
        "print(y)\n",
        "print(z)"
      ]
    },
    {
      "cell_type": "markdown",
      "source": [
        "You can combine these in print commands, but python defined the `type` of the variable, so if you give it a single number it defines that as an integer, if the number has a decimal it will become a floating point number (shortened to  `float`) and if it is a bunch of characters it will be a string (shortened to `str`).\n"
      ],
      "metadata": {
        "id": "0kF0y_AZQ8TL"
      }
    },
    {
      "cell_type": "code",
      "source": [
        "print(\"I can't mix numbers and strings when I print, so this is how you print a number\")\n",
        "print(\"I am a number \"+str(x)+\" and \"+y)\n",
        "print(type(z))"
      ],
      "metadata": {
        "colab": {
          "base_uri": "https://localhost:8080/"
        },
        "id": "HMgWtPR4EoWY",
        "outputId": "21f80c81-84a5-424e-9598-fff816426994"
      },
      "execution_count": null,
      "outputs": [
        {
          "output_type": "stream",
          "name": "stdout",
          "text": [
            "I can't mix numbers and strings when I print, so this is how you print a number\n",
            "I am a number 2 and I am a string\n",
            "<class 'float'>\n"
          ]
        }
      ]
    },
    {
      "cell_type": "code",
      "source": [
        "print( type(y))"
      ],
      "metadata": {
        "colab": {
          "base_uri": "https://localhost:8080/"
        },
        "id": "2ZuPlfhzRkQJ",
        "outputId": "9868b8f0-af6b-4db4-bb30-91e39cf4c8a0"
      },
      "execution_count": null,
      "outputs": [
        {
          "output_type": "stream",
          "name": "stdout",
          "text": [
            "<class 'str'>\n"
          ]
        }
      ]
    },
    {
      "cell_type": "markdown",
      "source": [
        "### This isn't a programming course"
      ],
      "metadata": {
        "id": "ra1ii6SVWjA2"
      }
    },
    {
      "cell_type": "markdown",
      "source": [
        "**You have just learned how to run cells. For the rest of this practical I am just going to get you to run cells. You might have to change a number in a cell, but I will tell you when to do that.**"
      ],
      "metadata": {
        "id": "QfnJspENWxzG"
      }
    },
    {
      "cell_type": "markdown",
      "source": [
        "## Grab some data"
      ],
      "metadata": {
        "id": "xeHu2r8vXJIC"
      }
    },
    {
      "cell_type": "code",
      "source": [
        "#!/usr/bin/env python3\n",
        "\n",
        "# -*- coding: utf-8 -*-\n",
        "\n",
        "import urllib.request\n",
        "import json\n",
        "import pandas as pd\n",
        "\n",
        "# The base URL to access the NFRA API\n",
        "BASE_URL = \"https://nrfaapps.ceh.ac.uk/nrfa/ws\"\n",
        "\n",
        "VALID_DATA_TYPES = [\n",
        "    'gdf', 'ndf', 'gmf', 'nmf', 'cdr', 'cdr-d', 'cmr',\n",
        "    'pot-stage', 'pot-flow', 'gauging-stage', 'gauging-flow',\n",
        "    'amax-stage', 'amax-flow'\n",
        "]\n",
        "\n",
        "def catalogue():\n",
        "\n",
        "    query = \"station=*&format=json-object&fields=all\"\n",
        "    stations_info_url = \"{BASE}/station-info?{QUERY}\".format(\n",
        "        BASE=BASE_URL, QUERY=query\n",
        "    )\n",
        "\n",
        "    # Send request and read response\n",
        "    response = urllib.request.urlopen(stations_info_url).read()\n",
        "\n",
        "    # Decode from JSON to Python dictionary\n",
        "    response = json.loads(response)\n",
        "    df = pd.DataFrame(response['data'])\n",
        "    return df\n",
        "\n",
        "\n",
        "def _build_ts(response):\n",
        "    variable = response['data-type']['id']\n",
        "    dates = response['data-stream'][0::2]\n",
        "    values = response['data-stream'][1::2]\n",
        "    df = pd.DataFrame.from_dict({'time': dates, variable: values})\n",
        "    return df\n",
        "\n",
        "\n",
        "def get_ts(id, data_type):\n",
        "\n",
        "    query = \"station=\" + str(id) + \"&data-type=\" + data_type + \"&format=json-object\"\n",
        "    stations_info_url = \"{BASE}/time-series?{QUERY}\".format(\n",
        "        BASE=BASE_URL, QUERY=query\n",
        "    )\n",
        "\n",
        "    # Send request and read response\n",
        "    response = urllib.request.urlopen(stations_info_url).read()\n",
        "\n",
        "    # Decode from JSON to Python dictionary\n",
        "    response = json.loads(response)\n",
        "\n",
        "    df = _build_ts(response)\n",
        "    return df"
      ],
      "metadata": {
        "id": "kLf9hO9bamZ0"
      },
      "execution_count": 12,
      "outputs": []
    },
    {
      "cell_type": "code",
      "source": [
        "\n",
        "\n",
        "# Example use\n",
        "md = catalogue()\n",
        "#ts = get_ts(9001, \"gdf\")"
      ],
      "metadata": {
        "id": "duEgw8VWgGt_"
      },
      "execution_count": 2,
      "outputs": []
    },
    {
      "cell_type": "code",
      "source": [
        "print(md)"
      ],
      "metadata": {
        "colab": {
          "base_uri": "https://localhost:8080/"
        },
        "id": "7qLd6l1OgLcs",
        "outputId": "351cd7a6-ed23-4944-a32e-0007c711ebcd"
      },
      "execution_count": 4,
      "outputs": [
        {
          "output_type": "stream",
          "name": "stdout",
          "text": [
            "          id                                name  catchment-area  \\\n",
            "0       1001                     Wick at Tarroul           161.9   \n",
            "1       2001              Helmsdale at Kilphedir           551.4   \n",
            "2       2002                Brora at Bruachrobie           434.4   \n",
            "3       3001                       Shin at Lairg           494.6   \n",
            "4       3002                Carron at Sgodachail           241.1   \n",
            "...      ...                                 ...             ...   \n",
            "1595  206002          Jerretspass at Jerretspass           107.8   \n",
            "1596  206006                Annalong at Recorder            13.8   \n",
            "1597  236005  Colebrooke at Ballindarragh Bridge           313.6   \n",
            "1598  236007        Sillees at Drumrainey Bridge           166.3   \n",
            "1599  236051      Ballinamallard at Ballycassidy           159.4   \n",
            "\n",
            "                                         grid-reference   easting  northing  \\\n",
            "0     {'ngr': 'ND2620254915', 'easting': 326202.0, '...  326202.0  954915.0   \n",
            "1     {'ngr': 'NC9983918163', 'easting': 299839.0, '...  299839.0  918163.0   \n",
            "2     {'ngr': 'NC8915603916', 'easting': 289156.0, '...  289156.0  903916.0   \n",
            "3     {'ngr': 'NC581062', 'easting': 258100.0, 'nort...  258100.0  906200.0   \n",
            "4     {'ngr': 'NH4913692152', 'easting': 249136.0, '...  249136.0  892152.0   \n",
            "...                                                 ...       ...       ...   \n",
            "1595  {'ngr': 'IJ0648733187', 'easting': 306487.0, '...  306487.0  333187.0   \n",
            "1596  {'ngr': 'IJ350231', 'easting': 335000.0, 'nort...  335000.0  323100.0   \n",
            "1597  {'ngr': 'IH3319535906', 'easting': 233195.0, '...  233195.0  335906.0   \n",
            "1598  {'ngr': 'IH2048640003', 'easting': 220486.0, '...  220486.0  340003.0   \n",
            "1599  {'ngr': 'IH2292750868', 'easting': 222927.0, '...  222927.0  350868.0   \n",
            "\n",
            "                                               lat-long  latitude  longitude  \\\n",
            "0     {'string': '58°28'34.3048\"N 3°16'01.4180\"W', '...  58.47620   -3.26706   \n",
            "1     {'string': '58°08'27.6037\"N 3°42'10.6144\"W', '...  58.14100   -3.70295   \n",
            "2     {'string': '58°00'38.0048\"N 3°52'39.2357\"W', '...  58.01056   -3.87757   \n",
            "3     {'string': '58°01'19.9838\"N 4°24'14.5766\"W', '...  58.02222   -4.40405   \n",
            "4     {'string': '57°53'35.5581\"N 4°32'48.0657\"W', '...  57.89321   -4.54668   \n",
            "...                                                 ...       ...        ...   \n",
            "1595  {'string': '54°14'11.4715\"N 6°22'03.3025\"W', '...  54.23652   -6.36758   \n",
            "1596  {'string': '54°08'21.2840\"N 5°56'06.3258\"W', '...  54.13925   -5.93509   \n",
            "1597  {'string': '54°16'15.3513\"N 7°29'28.4590\"W', '...  54.27093   -7.49124   \n",
            "1598  {'string': '54°18'30.2467\"N 7°41'09.6840\"W', '...  54.30840   -7.68602   \n",
            "1599  {'string': '54°24'21.2467\"N 7°38'51.6787\"W', '...  54.40590   -7.64769   \n",
            "\n",
            "               river  ...                 peak-flow-rejected-amax-years  \\\n",
            "0               Wick  ...                                          None   \n",
            "1          Helmsdale  ...                    {'excluded-years': [1974]}   \n",
            "2              Brora  ...                    {'excluded-years': [1992]}   \n",
            "3               Shin  ...                                          None   \n",
            "4             Carron  ...                    {'excluded-years': [1973]}   \n",
            "...              ...  ...                                           ...   \n",
            "1595     Jerretspass  ...                                          None   \n",
            "1596        Annalong  ...                    {'excluded-years': [1894]}   \n",
            "1597      Colebrooke  ...  {'excluded-years': [1974, 1981, 1985, 1986]}   \n",
            "1598         Sillees  ...                    {'excluded-years': [1980]}   \n",
            "1599  Ballinamallard  ...                                          None   \n",
            "\n",
            "      peak-flow-rejected-periods  \\\n",
            "0                           None   \n",
            "1                           None   \n",
            "2                           None   \n",
            "3                           None   \n",
            "4                           None   \n",
            "...                          ...   \n",
            "1595                        None   \n",
            "1596                        None   \n",
            "1597                        None   \n",
            "1598                        None   \n",
            "1599                        None   \n",
            "\n",
            "                                           data-summary  \\\n",
            "0     {'data-types': [{'data-type': 'gdf', 'paramete...   \n",
            "1     {'data-types': [{'data-type': 'gdf', 'paramete...   \n",
            "2     {'data-types': [{'data-type': 'gdf', 'paramete...   \n",
            "3     {'data-types': [{'data-type': 'gdf', 'paramete...   \n",
            "4     {'data-types': [{'data-type': 'gdf', 'paramete...   \n",
            "...                                                 ...   \n",
            "1595  {'data-types': [{'data-type': 'gdf', 'paramete...   \n",
            "1596  {'data-types': [{'data-type': 'cmr', 'paramete...   \n",
            "1597  {'data-types': [{'data-type': 'gdf', 'paramete...   \n",
            "1598  {'data-types': [{'data-type': 'gdf', 'paramete...   \n",
            "1599  {'data-types': [{'data-type': 'gdf', 'paramete...   \n",
            "\n",
            "                                            licence-url  \\\n",
            "0     http://eidc.ceh.ac.uk/administration-folder/to...   \n",
            "1     http://eidc.ceh.ac.uk/administration-folder/to...   \n",
            "2     http://eidc.ceh.ac.uk/administration-folder/to...   \n",
            "3     http://eidc.ceh.ac.uk/administration-folder/to...   \n",
            "4     http://eidc.ceh.ac.uk/administration-folder/to...   \n",
            "...                                                 ...   \n",
            "1595  http://eidc.ceh.ac.uk/administration-folder/to...   \n",
            "1596  http://eidc.ceh.ac.uk/administration-folder/to...   \n",
            "1597  http://eidc.ceh.ac.uk/administration-folder/to...   \n",
            "1598  http://eidc.ceh.ac.uk/administration-folder/to...   \n",
            "1599  http://eidc.ceh.ac.uk/administration-folder/to...   \n",
            "\n",
            "                                    description-summary  \\\n",
            "0     Velocity area station gauging a catchment in t...   \n",
            "1     Velocity area station in upland Scotland. Flow...   \n",
            "2     Velocity area station in upland Scotland. Main...   \n",
            "3     Station measuring flows between Loch Shin and ...   \n",
            "4     Velocity area station. Low and medium flows af...   \n",
            "...                                                 ...   \n",
            "1595  Velocity area station gauging an entirely rura...   \n",
            "1596  Station operated by Belfast City & District Wa...   \n",
            "1597  Velocity-area station originally opened in Sep...   \n",
            "1598  Velocity area station with cableway opened in ...   \n",
            "1599   Velocity area station gauging a rural catchment.   \n",
            "\n",
            "                                    description-general  \\\n",
            "0     Velocity area station in relatively straight (...   \n",
            "1     Velocity area station; approx. 35m wide river ...   \n",
            "2     Velocity area station about 40m wide with rela...   \n",
            "3     River section between main Loch Shin (HEP) dam...   \n",
            "4     Velocity area station; river section about 35m...   \n",
            "...                                                 ...   \n",
            "1595                             Velocity area station.   \n",
            "1596  Station composed of steel plate weir with end ...   \n",
            "1597  Velocity-area station composed of masonry hut ...   \n",
            "1598  Velocity-area station with cableway. Masonry h...   \n",
            "1599                             Velocity area station.   \n",
            "\n",
            "                         description-station-hydrometry  \\\n",
            "0     Cableway present. Rarely by-passed; MAF probab...   \n",
            "1     Stable gravel control. Two peak flow rating ac...   \n",
            "2     Ratings derived from current meter gaugings up...   \n",
            "3                                                  None   \n",
            "4     Gravel bed with problems of stability in low f...   \n",
            "...                                                 ...   \n",
            "1595  Calibrated by wading and from footbridge. Cana...   \n",
            "1596  Weir has been classified as good with an A2 gr...   \n",
            "1597  Natural in-channel control. Channel is too dee...   \n",
            "1598  Natural in-channel control. Downstream road br...   \n",
            "1599                 With cableway and natural control.   \n",
            "\n",
            "                                description-flow-record  \\\n",
            "0                                                  None   \n",
            "1     Full period of record peak flow data reviewed ...   \n",
            "2     Full period of record peak flow data reviewed ...   \n",
            "3     1953-56 data pre-dates the start of impoundmen...   \n",
            "4     Full period of record peak flow data reviewed ...   \n",
            "...                                                 ...   \n",
            "1595  Flows from start of 1981 onwards reprocessed i...   \n",
            "1596  Concerns regarding the accuracy of the weir we...   \n",
            "1597  Flows from start of 1987 reprocessed in 2002. ...   \n",
            "1598  Full period of record peak flow data reviewed ...   \n",
            "1599                     All flows reprocessed in 2002.   \n",
            "\n",
            "                                  description-catchment  \\\n",
            "0     Relatively dry and flat catchment given over l...   \n",
            "1     Typical Scottish upland impermeable bedrock he...   \n",
            "2     Mountainous headwaters, often snowy in winter....   \n",
            "3                                                  None   \n",
            "4     Approx. 80% of this remote Highland catchment ...   \n",
            "...                                                 ...   \n",
            "1595  Low catchment runoff, and effective catchment ...   \n",
            "1596  The catchment lies within the quartzose granit...   \n",
            "1597  AMAX1 and AMAX2 in October 1987 and December 2...   \n",
            "1598  Solid geology - indurated Carboniferous sandst...   \n",
            "1599                  Predominantly improved grassland.   \n",
            "\n",
            "                                description-flow-regime  \n",
            "0                                  Natural flow regime.  \n",
            "1     Loch Badanloch and an-Ruathair used for river ...  \n",
            "2     Mainly natural regime. Small headwater diversi...  \n",
            "3                                                  None  \n",
            "4     Computed low flows are natural in relation to ...  \n",
            "...                                                 ...  \n",
            "1595                                               None  \n",
            "1596        Upland, responsive and natural flow regime.  \n",
            "1597                                               None  \n",
            "1598  Some natural storage provided by small lakes i...  \n",
            "1599                                               None  \n",
            "\n",
            "[1600 rows x 114 columns]\n"
          ]
        }
      ]
    },
    {
      "cell_type": "code",
      "source": [
        "# Example use\n",
        "#md = catalogue()\n",
        "ts = get_ts(9001, \"amax-flow\")\n",
        "print(ts)"
      ],
      "metadata": {
        "colab": {
          "base_uri": "https://localhost:8080/"
        },
        "id": "s7o2ItImgNqN",
        "outputId": "a8547624-ad73-4f59-ce22-7c7717c9489d"
      },
      "execution_count": 13,
      "outputs": [
        {
          "output_type": "stream",
          "name": "stdout",
          "text": [
            "                   time  amax-flow\n",
            "0   1960-08-26T00:00:00    165.417\n",
            "1   1960-11-02T00:45:00    145.412\n",
            "2   1961-10-20T12:30:00    113.073\n",
            "3   1962-12-14T23:15:00    129.406\n",
            "4   1964-08-19T01:45:00     79.600\n",
            "..                  ...        ...\n",
            "58  2017-11-21T20:45:00     89.862\n",
            "59  2019-05-26T18:45:00     97.435\n",
            "60  2019-11-12T18:30:00    113.312\n",
            "61  2020-10-04T04:45:00    191.799\n",
            "62  2021-11-01T00:45:00     68.205\n",
            "\n",
            "[63 rows x 2 columns]\n"
          ]
        }
      ]
    },
    {
      "cell_type": "code",
      "source": [
        "print(ts)"
      ],
      "metadata": {
        "colab": {
          "base_uri": "https://localhost:8080/"
        },
        "id": "FNjcw4FwgZaV",
        "outputId": "bcf100bf-a7a0-4510-e36b-709986f4f442"
      },
      "execution_count": 7,
      "outputs": [
        {
          "output_type": "stream",
          "name": "stdout",
          "text": [
            "             time     gdf\n",
            "0      1959-10-01   1.667\n",
            "1      1959-10-02   1.667\n",
            "2      1959-10-03   1.891\n",
            "3      1959-10-04   1.512\n",
            "4      1959-10-05   1.614\n",
            "...           ...     ...\n",
            "23005  2022-09-26   3.542\n",
            "23006  2022-09-27   9.853\n",
            "23007  2022-09-28  18.310\n",
            "23008  2022-09-29  10.370\n",
            "23009  2022-09-30   8.835\n",
            "\n",
            "[23010 rows x 2 columns]\n"
          ]
        }
      ]
    },
    {
      "cell_type": "code",
      "source": [],
      "metadata": {
        "id": "D51LZP31gdVG"
      },
      "execution_count": null,
      "outputs": []
    }
  ]
}